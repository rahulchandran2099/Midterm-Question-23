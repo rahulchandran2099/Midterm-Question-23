{
 "cells": [
  {
   "cell_type": "code",
   "execution_count": 3,
   "metadata": {
    "cocalc": {
     "outputs": {
      "0": {
       "name": "input",
       "opts": {
        "password": false,
        "prompt": "Enter the indentation (non-negative integer): "
       },
       "output_type": "stream",
       "value": "0"
      },
      "1": {
       "name": "input",
       "opts": {
        "password": false,
        "prompt": "Enter the number of '*'s (non-negative integer): "
       },
       "output_type": "stream",
       "value": "4"
      }
     }
    },
    "collapsed": false
   },
   "outputs": [
    {
     "name": "stdout",
     "output_type": "stream",
     "text": "Enter the indentation (non-negative integer):  0"
    },
    {
     "name": "stdout",
     "output_type": "stream",
     "text": "Enter the number of '*'s (non-negative integer):  4"
    },
    {
     "name": "stdout",
     "output_type": "stream",
     "text": [
      "*\n",
      "**\n",
      "  *\n",
      "***\n",
      "   *\n",
      "   **\n",
      "     *\n",
      "****\n",
      "    *\n",
      "    **\n",
      "      *\n",
      "    ***\n",
      "       *\n",
      "       **\n",
      "         *\n"
     ]
    }
   ],
   "source": [
    "def tough(i, n):\n",
    "    if n == 0:\n",
    "        return\n",
    "    space = ' ' * i\n",
    "    tough(i, n-1)\n",
    "    print(f\"{space}{'*' * n}\")\n",
    "    tough(i + n, n-1)\n",
    "\n",
    "# Getting input from user for identation and length of the \"*\"s\n",
    "def run_tough():\n",
    "    try:\n",
    "        # Get user input for indentation and the length of the longest line of '*'s\n",
    "        i = int(input(\"Enter the indentation (non-negative integer): \"))\n",
    "        n = int(input(\"Enter the number of '*'s (non-negative integer): \"))\n",
    "        if i < 0 or n < 0:\n",
    "            print(\"Please enter non-negative integers only.\")\n",
    "        else:\n",
    "            tough(i, n)\n",
    "    except ValueError:\n",
    "        print(\"Invalid input. Please enter a valid non-negative integer.\")\n",
    "\n",
    "# Calling the function\n",
    "run_tough()\n"
   ]
  },
  {
   "cell_type": "code",
   "execution_count": 0,
   "metadata": {
    "collapsed": false
   },
   "outputs": [
   ],
   "source": [
   ]
  }
 ],
 "metadata": {
  "kernelspec": {
   "argv": [
    "/usr/bin/python3",
    "-m",
    "ipykernel",
    "--HistoryManager.enabled=False",
    "--matplotlib=inline",
    "-c",
    "%config InlineBackend.figure_formats = set(['retina'])\nimport matplotlib; matplotlib.rcParams['figure.figsize'] = (12, 7)",
    "-f",
    "{connection_file}"
   ],
   "display_name": "Python 3 (system-wide)",
   "env": {
   },
   "language": "python",
   "metadata": {
    "cocalc": {
     "description": "Python 3 programming language",
     "priority": 100,
     "url": "https://www.python.org/"
    }
   },
   "name": "python3",
   "resource_dir": "/ext/jupyter/kernels/python3"
  },
  "language_info": {
   "codemirror_mode": {
    "name": "ipython",
    "version": 3
   },
   "file_extension": ".py",
   "mimetype": "text/x-python",
   "name": "python",
   "nbconvert_exporter": "python",
   "pygments_lexer": "ipython3",
   "version": "3.10.12"
  }
 },
 "nbformat": 4,
 "nbformat_minor": 4
}